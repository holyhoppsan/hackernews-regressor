{
 "cells": [
  {
   "cell_type": "markdown",
   "metadata": {},
   "source": [
    "# Setup of WikiText2 Dataset\n",
    "\n",
    "Load the datasets, including the WikiText-2."
   ]
  },
  {
   "cell_type": "code",
   "execution_count": 27,
   "metadata": {},
   "outputs": [
    {
     "name": "stdout",
     "output_type": "stream",
     "text": [
      "{'text': \" The game began development in 2010 , carrying over a large portion of the work done on Valkyria Chronicles II . While it retained the standard features of the series , it also underwent multiple adjustments , such as making the game more forgiving for series newcomers . Character designer Raita Honjou and composer Hitoshi Sakimoto both returned from previous entries , along with Valkyria Chronicles II director Takeshi Ozawa . A large team of writers handled the script . The game 's opening theme was sung by May 'n . \\n\"}\n",
      "Flowers captivate with their myriad forms and hues, serving both as nature's art and essential elements in ecosystems. They symbolize emotions and mark significant life events across cultures. Beyond beauty, flowers play crucial roles in agriculture by attracting pollinators, essential for crop production. The floriculture industry, while economically significant, faces challenges of sustainability, prompting a shift towards environmentally friendly practices. As symbols of love, grief, and celebration, flowers bridge the gap between human expression and the natural world, reminding us of life's fleeting beauty and the importance of preserving the delicate balance of our environment.\n"
     ]
    }
   ],
   "source": [
    "from datasets import load_dataset\n",
    "\n",
    "wiki_dataset = load_dataset(\"wikitext\", \"wikitext-2-raw-v1\")\n",
    "print(dataset['train'][4])\n",
    "\n",
    "dev_dataset_string = \"datasets/test_text.txt\"\n",
    "\n",
    "dev_dataset = \"\"\n",
    "with open(dev_dataset_string, 'r') as file:\n",
    "    dev_dataset = file.read()\n",
    "\n",
    "# Now file_content holds the entire content of the file as a string\n",
    "print(dev_dataset)\n"
   ]
  },
  {
   "cell_type": "markdown",
   "metadata": {},
   "source": [
    "# Step 2 - Train the sentencepiece model on the data from the test file"
   ]
  },
  {
   "cell_type": "code",
   "execution_count": 16,
   "metadata": {},
   "outputs": [
    {
     "name": "stderr",
     "output_type": "stream",
     "text": [
      "sentencepiece_trainer.cc(178) LOG(INFO) Running command: --input=datasets/test_text.txt --model_prefix=m --vocab_size=100\n",
      "sentencepiece_trainer.cc(78) LOG(INFO) Starts training with : \n",
      "trainer_spec {\n",
      "  input: datasets/test_text.txt\n",
      "  input_format: \n",
      "  model_prefix: m\n",
      "  model_type: UNIGRAM\n",
      "  vocab_size: 100\n",
      "  self_test_sample_size: 0\n",
      "  character_coverage: 0.9995\n",
      "  input_sentence_size: 0\n",
      "  shuffle_input_sentence: 1\n",
      "  seed_sentencepiece_size: 1000000\n",
      "  shrinking_factor: 0.75\n",
      "  max_sentence_length: 4192\n",
      "  num_threads: 16\n",
      "  num_sub_iterations: 2\n",
      "  max_sentencepiece_length: 16\n",
      "  split_by_unicode_script: 1\n",
      "  split_by_number: 1\n",
      "  split_by_whitespace: 1\n",
      "  split_digits: 0\n",
      "  pretokenization_delimiter: \n",
      "  treat_whitespace_as_suffix: 0\n",
      "  allow_whitespace_only_pieces: 0\n",
      "  required_chars: \n",
      "  byte_fallback: 0\n",
      "  vocabulary_output_piece_score: 1\n",
      "  train_extremely_large_corpus: 0\n",
      "  seed_sentencepieces_file: \n",
      "  hard_vocab_limit: 1\n",
      "  use_all_vocab: 0\n",
      "  unk_id: 0\n",
      "  bos_id: 1\n",
      "  eos_id: 2\n",
      "  pad_id: -1\n",
      "  unk_piece: <unk>\n",
      "  bos_piece: <s>\n",
      "  eos_piece: </s>\n",
      "  pad_piece: <pad>\n",
      "  unk_surface:  ⁇ \n",
      "  enable_differential_privacy: 0\n",
      "  differential_privacy_noise_level: 0\n",
      "  differential_privacy_clipping_threshold: 0\n",
      "}\n",
      "normalizer_spec {\n",
      "  name: nmt_nfkc\n",
      "  add_dummy_prefix: 1\n",
      "  remove_extra_whitespaces: 1\n",
      "  escape_whitespaces: 1\n",
      "  normalization_rule_tsv: \n",
      "}\n",
      "denormalizer_spec {}\n",
      "trainer_interface.cc(353) LOG(INFO) SentenceIterator is not specified. Using MultiFileSentenceIterator.\n",
      "trainer_interface.cc(185) LOG(INFO) Loading corpus: datasets/test_text.txt\n",
      "trainer_interface.cc(409) LOG(INFO) Loaded all 1 sentences\n",
      "trainer_interface.cc(425) LOG(INFO) Adding meta_piece: <unk>\n",
      "trainer_interface.cc(425) LOG(INFO) Adding meta_piece: <s>\n",
      "trainer_interface.cc(425) LOG(INFO) Adding meta_piece: </s>\n",
      "trainer_interface.cc(430) LOG(INFO) Normalizing sentences...\n",
      "trainer_interface.cc(539) LOG(INFO) all chars count=693\n",
      "trainer_interface.cc(560) LOG(INFO) Alphabet size=32\n",
      "trainer_interface.cc(561) LOG(INFO) Final character coverage=1\n",
      "trainer_interface.cc(592) LOG(INFO) Done! preprocessed 1 sentences.\n",
      "unigram_model_trainer.cc(265) LOG(INFO) Making suffix array...\n",
      "unigram_model_trainer.cc(269) LOG(INFO) Extracting frequent sub strings... node_num=303\n",
      "unigram_model_trainer.cc(312) LOG(INFO) Initialized 209 seed sentencepieces\n",
      "trainer_interface.cc(598) LOG(INFO) Tokenizing input sentences with whitespace: 1\n",
      "trainer_interface.cc(609) LOG(INFO) Done! 80\n",
      "unigram_model_trainer.cc(602) LOG(INFO) Using 80 sentences for EM training\n",
      "unigram_model_trainer.cc(618) LOG(INFO) EM sub_iter=0 size=137 obj=16.7969 num_tokens=283 num_tokens/piece=2.06569\n",
      "unigram_model_trainer.cc(618) LOG(INFO) EM sub_iter=1 size=123 obj=15.6464 num_tokens=283 num_tokens/piece=2.30081\n",
      "unigram_model_trainer.cc(618) LOG(INFO) EM sub_iter=0 size=109 obj=17.1646 num_tokens=297 num_tokens/piece=2.72477\n",
      "unigram_model_trainer.cc(618) LOG(INFO) EM sub_iter=1 size=108 obj=16.9227 num_tokens=301 num_tokens/piece=2.78704\n",
      "trainer_interface.cc(687) LOG(INFO) Saving model: m.model\n",
      "trainer_interface.cc(699) LOG(INFO) Saving vocabs: m.vocab\n"
     ]
    }
   ],
   "source": [
    "import sentencepiece as spm\n",
    "\n",
    "spm.SentencePieceTrainer.train(f\"--input={dev_dataset_string} --model_prefix=m --vocab_size=100\")"
   ]
  },
  {
   "cell_type": "markdown",
   "metadata": {},
   "source": [
    "Step 3 - Load the model from the model file, and encode the test text"
   ]
  },
  {
   "cell_type": "code",
   "execution_count": 23,
   "metadata": {},
   "outputs": [
    {
     "name": "stdout",
     "output_type": "stream",
     "text": [
      "['▁', 'T', 'hi', 's', '▁', 'i', 's', '▁a', '▁', 'te', 's', 't', '▁', 's', 'ent', 'e', 'n', 'ce', '.']\n",
      "This is a test sentence.\n",
      "[3, 90, 63, 24, 25, 31, 14, 83, 41, 14, 35, 28, 8, 58, 20, 8, 82, 70, 6, 23, 14, 15, 59, 75, 5, 9, 50, 34, 7, 3, 4, 61, 62, 12, 22, 18, 58, 5, 4, 55, 13, 45, 4, 3, 42, 11, 5, 9, 3, 74, 33, 8, 17, 3, 71, 69, 33, 4, 38, 43, 4, 6, 4, 35, 75, 19, 47, 6, 44, 8, 92, 13, 3, 40, 18, 29, 4, 5, 9, 70, 42, 91, 51, 54, 76, 41, 33, 4, 5, 64, 4, 4, 3, 27, 4, 19, 3, 93, 13, 6, 18, 9, 48, 7, 30, 24, 25, 32, 21, 14, 6, 31, 82, 98, 99, 8, 17, 67, 68, 34, 38, 5, 97, 23, 27, 22, 6, 5, 11, 11, 46, 12, 32, 68, 73, 87, 14, 11, 36, 4, 7, 3, 74, 33, 8, 17, 59, 3, 64, 85, 57, 15, 98, 99, 29, 19, 47, 30, 23, 27, 3, 79, 52, 82, 6, 7, 28, 60, 37, 43, 87, 18, 69, 53, 21, 21, 6, 51, 7, 72, 14, 66, 31, 88, 17, 37, 12, 34, 16, 10, 3, 4, 52, 14, 8, 87, 14, 86, 8, 73, 11, 6, 7, 57, 78, 77, 12, 5, 3, 4, 60, 10, 11, 3, 11, 18, 96, 42, 15, 4, 49, 81, 6, 72, 65, 9, 21, 6, 32, 46, 66, 19, 3, 89, 4, 44, 4, 16, 10, 3, 63, 41, 13, 7, 3, 97, 65, 10, 7, 5, 9, 31, 71, 86, 82, 14, 29, 7, 30, 24, 25, 22, 23, 15, 97, 13, 20, 3, 97, 84, 22, 13, 11, 24, 13, 87, 50, 69, 26, 76, 94, 56, 4, 8, 18, 87, 5, 9, 20, 55, 17, 28, 36, 21, 15, 7, 67, 40, 79, 8, 12, 3, 98, 4, 16, 10, 54, 45, 4, 72, 37, 13, 77, 12, 48, 5, 9, 20, 3, 8, 78, 36, 11, 26, 39, 16, 10, 3, 56, 61, 62, 12, 20, 3, 15, 13, 21, 53, 35, 22, 17, 26, 39, 16, 10, 16, 98, 82, 49, 19]\n",
      "[['▁', 'F'], ['▁', 'l'], ['▁o'], ['▁w'], ['▁e'], ['▁r'], ['▁', 's'], [], ['▁c'], ['▁a'], ['▁p'], ['▁', 't'], ['▁', 'i'], ['▁', 'v'], ['▁a'], ['▁', 't'], ['▁e'], [], ['▁w'], ['▁', 'i'], ['▁', 't'], ['▁', 'h'], [], ['▁', 't'], ['▁', 'h'], ['▁e'], ['▁', 'i'], ['▁r'], [], ['▁m'], ['▁', 'y'], ['▁r'], ['▁', 'i'], ['▁a'], ['▁', 'd'], [], ['▁f'], ['▁o'], ['▁r'], ['▁m'], ['▁', 's'], [], ['▁a'], ['▁', 'n'], ['▁', 'd'], [], ['▁', 'h'], ['▁', 'u'], ['▁e'], ['▁', 's'], ['▁', ','], [], ['▁', 's'], ['▁e'], ['▁r'], ['▁', 'v'], ['▁', 'i'], ['▁', 'n'], ['▁', 'g'], [], ['▁b'], ['▁o'], ['▁', 't'], ['▁', 'h'], [], ['▁a'], ['▁', 's'], [], ['▁', 'n'], ['▁a'], ['▁', 't'], ['▁', 'u'], ['▁r'], ['▁e'], ['▁', \"'\"], ['▁', 's'], [], ['▁a'], ['▁r'], ['▁', 't'], [], ['▁a'], ['▁', 'n'], ['▁', 'd'], [], ['▁e'], ['▁', 's'], ['▁', 's'], ['▁e'], ['▁', 'n'], ['▁', 't'], ['▁', 'i'], ['▁a'], ['▁', 'l'], [], ['▁e'], ['▁', 'l'], ['▁e'], ['▁m'], ['▁e'], ['▁', 'n'], ['▁', 't'], ['▁', 's'], [], ['▁', 'i'], ['▁', 'n'], [], ['▁e'], ['▁c'], ['▁o'], ['▁', 's'], ['▁', 'y'], ['▁', 's'], ['▁', 't'], ['▁e'], ['▁m'], ['▁', 's'], ['▁', '.'], [], ['▁', 'T'], ['▁', 'h'], ['▁e'], ['▁', 'y'], [], ['▁', 's'], ['▁', 'y'], ['▁m'], ['▁b'], ['▁o'], ['▁', 'l'], ['▁', 'i'], ['▁', 'z'], ['▁e'], [], ['▁e'], ['▁m'], ['▁o'], ['▁', 't'], ['▁', 'i'], ['▁o'], ['▁', 'n'], ['▁', 's'], [], ['▁a'], ['▁', 'n'], ['▁', 'd'], [], ['▁m'], ['▁a'], ['▁r'], ['▁', 'k'], [], ['▁', 's'], ['▁', 'i'], ['▁', 'g'], ['▁', 'n'], ['▁', 'i'], ['▁f'], ['▁', 'i'], ['▁c'], ['▁a'], ['▁', 'n'], ['▁', 't'], [], ['▁', 'l'], ['▁', 'i'], ['▁f'], ['▁e'], [], ['▁e'], ['▁', 'v'], ['▁e'], ['▁', 'n'], ['▁', 't'], ['▁', 's'], [], ['▁a'], ['▁c'], ['▁r'], ['▁o'], ['▁', 's'], ['▁', 's'], [], ['▁c'], ['▁', 'u'], ['▁', 'l'], ['▁', 't'], ['▁', 'u'], ['▁r'], ['▁e'], ['▁', 's'], ['▁', '.'], [], ['▁', 'B'], ['▁e'], ['▁', 'y'], ['▁o'], ['▁', 'n'], ['▁', 'd'], [], ['▁b'], ['▁e'], ['▁a'], ['▁', 'u'], ['▁', 't'], ['▁', 'y'], ['▁', ','], [], ['▁f'], ['▁', 'l'], ['▁o'], ['▁w'], ['▁e'], ['▁r'], ['▁', 's'], [], ['▁p'], ['▁', 'l'], ['▁a'], ['▁', 'y'], [], ['▁c'], ['▁r'], ['▁', 'u'], ['▁c'], ['▁', 'i'], ['▁a'], ['▁', 'l'], [], ['▁r'], ['▁o'], ['▁', 'l'], ['▁e'], ['▁', 's'], [], ['▁', 'i'], ['▁', 'n'], [], ['▁a'], ['▁', 'g'], ['▁r'], ['▁', 'i'], ['▁c'], ['▁', 'u'], ['▁', 'l'], ['▁', 't'], ['▁', 'u'], ['▁r'], ['▁e'], [], ['▁b'], ['▁', 'y'], [], ['▁a'], ['▁', 't'], ['▁', 't'], ['▁r'], ['▁a'], ['▁c'], ['▁', 't'], ['▁', 'i'], ['▁', 'n'], ['▁', 'g'], [], ['▁p'], ['▁o'], ['▁', 'l'], ['▁', 'l'], ['▁', 'i'], ['▁', 'n'], ['▁a'], ['▁', 't'], ['▁o'], ['▁r'], ['▁', 's'], ['▁', ','], [], ['▁e'], ['▁', 's'], ['▁', 's'], ['▁e'], ['▁', 'n'], ['▁', 't'], ['▁', 'i'], ['▁a'], ['▁', 'l'], [], ['▁f'], ['▁o'], ['▁r'], [], ['▁c'], ['▁r'], ['▁o'], ['▁p'], [], ['▁p'], ['▁r'], ['▁o'], ['▁', 'd'], ['▁', 'u'], ['▁c'], ['▁', 't'], ['▁', 'i'], ['▁o'], ['▁', 'n'], ['▁', '.'], [], ['▁', 'T'], ['▁', 'h'], ['▁e'], [], ['▁f'], ['▁', 'l'], ['▁o'], ['▁r'], ['▁', 'i'], ['▁c'], ['▁', 'u'], ['▁', 'l'], ['▁', 't'], ['▁', 'u'], ['▁r'], ['▁e'], [], ['▁', 'i'], ['▁', 'n'], ['▁', 'd'], ['▁', 'u'], ['▁', 's'], ['▁', 't'], ['▁r'], ['▁', 'y'], ['▁', ','], [], ['▁w'], ['▁', 'h'], ['▁', 'i'], ['▁', 'l'], ['▁e'], [], ['▁e'], ['▁c'], ['▁o'], ['▁', 'n'], ['▁o'], ['▁m'], ['▁', 'i'], ['▁c'], ['▁a'], ['▁', 'l'], ['▁', 'l'], ['▁', 'y'], [], ['▁', 's'], ['▁', 'i'], ['▁', 'g'], ['▁', 'n'], ['▁', 'i'], ['▁f'], ['▁', 'i'], ['▁c'], ['▁a'], ['▁', 'n'], ['▁', 't'], ['▁', ','], [], ['▁f'], ['▁a'], ['▁c'], ['▁e'], ['▁', 's'], [], ['▁c'], ['▁', 'h'], ['▁a'], ['▁', 'l'], ['▁', 'l'], ['▁e'], ['▁', 'n'], ['▁', 'g'], ['▁e'], ['▁', 's'], [], ['▁o'], ['▁f'], [], ['▁', 's'], ['▁', 'u'], ['▁', 's'], ['▁', 't'], ['▁a'], ['▁', 'i'], ['▁', 'n'], ['▁a'], ['▁b'], ['▁', 'i'], ['▁', 'l'], ['▁', 'i'], ['▁', 't'], ['▁', 'y'], ['▁', ','], [], ['▁p'], ['▁r'], ['▁o'], ['▁m'], ['▁p'], ['▁', 't'], ['▁', 'i'], ['▁', 'n'], ['▁', 'g'], [], ['▁a'], [], ['▁', 's'], ['▁', 'h'], ['▁', 'i'], ['▁f'], ['▁', 't'], [], ['▁', 't'], ['▁o'], ['▁w'], ['▁a'], ['▁r'], ['▁', 'd'], ['▁', 's'], [], ['▁e'], ['▁', 'n'], ['▁', 'v'], ['▁', 'i'], ['▁r'], ['▁o'], ['▁', 'n'], ['▁m'], ['▁e'], ['▁', 'n'], ['▁', 't'], ['▁a'], ['▁', 'l'], ['▁', 'l'], ['▁', 'y'], [], ['▁f'], ['▁r'], ['▁', 'i'], ['▁e'], ['▁', 'n'], ['▁', 'd'], ['▁', 'l'], ['▁', 'y'], [], ['▁p'], ['▁r'], ['▁a'], ['▁c'], ['▁', 't'], ['▁', 'i'], ['▁c'], ['▁e'], ['▁', 's'], ['▁', '.'], [], ['▁', 'A'], ['▁', 's'], [], ['▁', 's'], ['▁', 'y'], ['▁m'], ['▁b'], ['▁o'], ['▁', 'l'], ['▁', 's'], [], ['▁o'], ['▁f'], [], ['▁', 'l'], ['▁o'], ['▁', 'v'], ['▁e'], ['▁', ','], [], ['▁', 'g'], ['▁r'], ['▁', 'i'], ['▁e'], ['▁f'], ['▁', ','], [], ['▁a'], ['▁', 'n'], ['▁', 'd'], [], ['▁c'], ['▁e'], ['▁', 'l'], ['▁e'], ['▁b'], ['▁r'], ['▁a'], ['▁', 't'], ['▁', 'i'], ['▁o'], ['▁', 'n'], ['▁', ','], [], ['▁f'], ['▁', 'l'], ['▁o'], ['▁w'], ['▁e'], ['▁r'], ['▁', 's'], [], ['▁b'], ['▁r'], ['▁', 'i'], ['▁', 'd'], ['▁', 'g'], ['▁e'], [], ['▁', 't'], ['▁', 'h'], ['▁e'], [], ['▁', 'g'], ['▁a'], ['▁p'], [], ['▁b'], ['▁e'], ['▁', 't'], ['▁w'], ['▁e'], ['▁e'], ['▁', 'n'], [], ['▁', 'h'], ['▁', 'u'], ['▁m'], ['▁a'], ['▁', 'n'], [], ['▁e'], ['▁', 'x'], ['▁p'], ['▁r'], ['▁e'], ['▁', 's'], ['▁', 's'], ['▁', 'i'], ['▁o'], ['▁', 'n'], [], ['▁a'], ['▁', 'n'], ['▁', 'd'], [], ['▁', 't'], ['▁', 'h'], ['▁e'], [], ['▁', 'n'], ['▁a'], ['▁', 't'], ['▁', 'u'], ['▁r'], ['▁a'], ['▁', 'l'], [], ['▁w'], ['▁o'], ['▁r'], ['▁', 'l'], ['▁', 'd'], ['▁', ','], [], ['▁r'], ['▁e'], ['▁m'], ['▁', 'i'], ['▁', 'n'], ['▁', 'd'], ['▁', 'i'], ['▁', 'n'], ['▁', 'g'], [], ['▁', 'u'], ['▁', 's'], [], ['▁o'], ['▁f'], [], ['▁', 'l'], ['▁', 'i'], ['▁f'], ['▁e'], ['▁', \"'\"], ['▁', 's'], [], ['▁f'], ['▁', 'l'], ['▁e'], ['▁e'], ['▁', 't'], ['▁', 'i'], ['▁', 'n'], ['▁', 'g'], [], ['▁b'], ['▁e'], ['▁a'], ['▁', 'u'], ['▁', 't'], ['▁', 'y'], [], ['▁a'], ['▁', 'n'], ['▁', 'd'], [], ['▁', 't'], ['▁', 'h'], ['▁e'], [], ['▁', 'i'], ['▁m'], ['▁p'], ['▁o'], ['▁r'], ['▁', 't'], ['▁a'], ['▁', 'n'], ['▁c'], ['▁e'], [], ['▁o'], ['▁f'], [], ['▁p'], ['▁r'], ['▁e'], ['▁', 's'], ['▁e'], ['▁r'], ['▁', 'v'], ['▁', 'i'], ['▁', 'n'], ['▁', 'g'], [], ['▁', 't'], ['▁', 'h'], ['▁e'], [], ['▁', 'd'], ['▁e'], ['▁', 'l'], ['▁', 'i'], ['▁c'], ['▁a'], ['▁', 't'], ['▁e'], [], ['▁b'], ['▁a'], ['▁', 'l'], ['▁a'], ['▁', 'n'], ['▁c'], ['▁e'], [], ['▁o'], ['▁f'], [], ['▁o'], ['▁', 'u'], ['▁r'], [], ['▁e'], ['▁', 'n'], ['▁', 'v'], ['▁', 'i'], ['▁r'], ['▁o'], ['▁', 'n'], ['▁m'], ['▁e'], ['▁', 'n'], ['▁', 't'], ['▁', '.']]\n"
     ]
    }
   ],
   "source": [
    "import sentencepiece as spm\n",
    "\n",
    "# Load your model\n",
    "sp = spm.SentencePieceProcessor(model_file='m.model')\n",
    "\n",
    "# Encode a sentence\n",
    "sentence = \"This is a test sentence.\"\n",
    "encoded_pieces = sp.encode(sentence, out_type=str)\n",
    "print(encoded_pieces)\n",
    "\n",
    "# Decode back to a sentence\n",
    "decoded_sentence = sp.decode(encoded_pieces)\n",
    "print(decoded_sentence)\n",
    "\n",
    "# encode the dev dataset\n",
    "encoded_dev_dataset = sp.encode(dev_dataset)\n",
    "print(encoded_dev_dataset)\n",
    "\n",
    "# Tokenize text\n",
    "tokenized_text = [sp.encode_as_pieces(t) for t in dev_dataset]\n",
    "\n",
    "# Convert tokens to IDs\n",
    "token_ids = [sp.encode_as_ids(t) for t in dev_dataset]"
   ]
  },
  {
   "cell_type": "code",
   "execution_count": 26,
   "metadata": {},
   "outputs": [
    {
     "name": "stdout",
     "output_type": "stream",
     "text": [
      "100\n"
     ]
    }
   ],
   "source": [
    "import torch\n",
    "import torch.nn as nn\n",
    "import torch.optim as optim\n",
    "\n",
    "class SkipGramModel(nn.Module):\n",
    "    def __init__(self, vocab_size, embeddings_dimensions):\n",
    "        super(SkipGramModel, self).__init__()\n",
    "        self.embeddings = nn.Embedding(vocab_size, embeddings_dimensions)\n",
    "        self.output_layer = nn.Linear(embeddings_dimensions, vocab_size)\n",
    "        self.activation_function = nn.LogSoftmax(dim=-1)\n",
    "\n",
    "    def forward(self, inputs):\n",
    "        embeds = self.embeddings(inputs)\n",
    "        scores = self.output_layer(embeds)\n",
    "        log_probabilties = self.activation_function(scores)\n",
    "        return log_probabilties\n",
    "    \n",
    "\n",
    "vocab_size = len(sp)\n",
    "print(vocab_size)"
   ]
  },
  {
   "cell_type": "markdown",
   "metadata": {},
   "source": [
    "# Appendix"
   ]
  },
  {
   "cell_type": "markdown",
   "metadata": {},
   "source": [
    "## A conceptual implementation of nn.Embeddings\n",
    "\n",
    "Embedding is a specific type of layer that is used to build a matrix containing vectors associated with an input that is then passed on to the next layer in the model. The section below shows an implementation using numpy"
   ]
  },
  {
   "cell_type": "code",
   "execution_count": 30,
   "metadata": {},
   "outputs": [
    {
     "name": "stdout",
     "output_type": "stream",
     "text": [
      "Embeddings: [[-0.94403489  0.56867671  0.58760799  0.86947277]\n",
      " [ 0.33459191  0.12253984  0.03845223 -0.88417206]\n",
      " [ 0.69562544 -0.30883693  0.66455824  0.80469115]\n",
      " [ 0.03204974 -0.35790267 -0.99944344  0.81280022]\n",
      " [-0.16043952  0.85588285  0.30353961  0.53162284]]\n",
      "Selected embeddings: [[ 0.33459191  0.12253984  0.03845223 -0.88417206]\n",
      " [ 0.03204974 -0.35790267 -0.99944344  0.81280022]\n",
      " [-0.16043952  0.85588285  0.30353961  0.53162284]] \n"
     ]
    }
   ],
   "source": [
    "import numpy as np\n",
    "\n",
    "class Embedding:\n",
    "    def __init__(self, vocab_size, embedding_dim):\n",
    "        self.embeddings = np.random.uniform(-1.0, 1.0, (vocab_size, embedding_dim))\n",
    "    \n",
    "    def forward(self, indices):\n",
    "        return self.embeddings[indices]\n",
    "    \n",
    "vocab_size = 5\n",
    "embedding_dim = 4\n",
    "\n",
    "embedding_layer = Embedding(vocab_size, embedding_dim)\n",
    "\n",
    "word_indices = np.array([1,3,4])\n",
    "selected_embeddings = embedding_layer.forward(word_indices)\n",
    "\n",
    "print(f\"Embeddings: {embedding_layer.embeddings}\")\n",
    "print(f\"Selected embeddings: {selected_embeddings} \")\n"
   ]
  }
 ],
 "metadata": {
  "kernelspec": {
   "display_name": "hackernews-regressor",
   "language": "python",
   "name": "python3"
  },
  "language_info": {
   "codemirror_mode": {
    "name": "ipython",
    "version": 3
   },
   "file_extension": ".py",
   "mimetype": "text/x-python",
   "name": "python",
   "nbconvert_exporter": "python",
   "pygments_lexer": "ipython3",
   "version": "3.12.2"
  }
 },
 "nbformat": 4,
 "nbformat_minor": 2
}
